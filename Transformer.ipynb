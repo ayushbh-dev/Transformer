{
  "nbformat": 4,
  "nbformat_minor": 0,
  "metadata": {
    "colab": {
      "provenance": [],
      "gpuType": "T4",
      "authorship_tag": "ABX9TyNHDkXoKet2ypj0Dny1q0Jy",
      "include_colab_link": true
    },
    "kernelspec": {
      "name": "python3",
      "display_name": "Python 3"
    },
    "language_info": {
      "name": "python"
    },
    "accelerator": "GPU"
  },
  "cells": [
    {
      "cell_type": "markdown",
      "metadata": {
        "id": "view-in-github",
        "colab_type": "text"
      },
      "source": [
        "<a href=\"https://colab.research.google.com/github/ayushbh-dev/Transformer/blob/main/Transformer.ipynb\" target=\"_parent\"><img src=\"https://colab.research.google.com/assets/colab-badge.svg\" alt=\"Open In Colab\"/></a>"
      ]
    },
    {
      "cell_type": "code",
      "execution_count": null,
      "metadata": {
        "id": "hM9s8fKi0Unj"
      },
      "outputs": [],
      "source": [
        "import torch\n",
        "import torch.nn as nn\n",
        "import torch.optim as optim\n",
        "import torch.utils.data as data\n",
        "import math\n",
        "import copy"
      ]
    },
    {
      "cell_type": "code",
      "source": [
        "class MultiHeadAttention(nn.Module):\n",
        "     def __init__(self, d_model,num_heads):\n",
        "         super(MultiHeadAttention,self).__init__()\n",
        "\n",
        "         assert d_model % num_heads ==0,\n",
        "         self.d_model = d_model\n",
        "         self.num_heads =num_heads\n",
        "         self.d_k = d_model // num_heads\n",
        "\n",
        "         self.W_q = nn.Linear(d_model,d_model)\n",
        "         self.W_k = nn.Linear(d_model,d_model)\n",
        "         self.W_v = nn.Linear(d_model, d_model)\n",
        "         self.W_o = nn.Linear(d_model,d_model)\n",
        "\n",
        "\n",
        "     def scaled_dot_product(self, Q,V,K, mask =None):\n",
        "         attn_scores = torch.matmul(Q,K.transpose(-2,-1)) / math.sqrt(self.d_k)\n",
        "\n",
        "         if mask is not None:\n",
        "             attn_scores = attn_scores.masked_fill(mask==0, -1e9)\n",
        "\n",
        "             attn_probs = torch.softmax(attn_scores,dim=-1)\n",
        "             output = torch.matmul(attn_probs,V)\n",
        "\n",
        "             return output\n",
        "\n",
        "     def split_heads(self,x):\n",
        "         batch_size,seq_length,d_model = x.size()\n",
        "         return x.view(batch_size, seq_length,self.num_heads, self.d_k).transpose(1,2)\n",
        "\n",
        "     def combine_heads(self,x):\n",
        "         batch_size, _, seq_length,d_k = x.size()\n",
        "         return x.transpose(1,2).contiguous().view(batch_size,seq_length,self.d_model)\n",
        "\n",
        "     def forward(self,Q,K,V, mask=None):\n",
        "          Q = self.split_heads(self.W_q(Q))\n",
        "          K = self.split_heads(self.W_k(K))\n",
        "          V = self.split_heads(self.W_v(V))\n",
        "\n",
        "          attn_output = self.scaled_dot_product(Q,K,V,mask)\n",
        "          output = self.W_o(self.combine_heads(attn_output))\n",
        "          return output\n"
      ],
      "metadata": {
        "id": "V6_B9MXq0Wls"
      },
      "execution_count": null,
      "outputs": []
    },
    {
      "cell_type": "code",
      "source": [
        "     class PositionWiseFeedForward(nn.Module):\n",
        "         def __init__(self, d_model,d_ff):\n",
        "          super(PositionWiseFeedForward,self).__init__()\n",
        "          self.fc1 = nn.Linear(d_model,d_ff)\n",
        "          self.fc2 = nn.Linear(d_ff,d_model)\n",
        "          self.relu = nn.ReLU()\n",
        "\n",
        "         def forward(self,x):\n",
        "             return self.fc2(self.relu(self.fc1(x)))"
      ],
      "metadata": {
        "id": "QjfSALVq0Wok"
      },
      "execution_count": null,
      "outputs": []
    },
    {
      "cell_type": "markdown",
      "source": [],
      "metadata": {
        "id": "3hS8WDEN7pOF"
      }
    },
    {
      "cell_type": "code",
      "source": [
        "class PositionalEncoding(nn.Module):\n",
        "        def __init__(self,d_model,max_seq_length):\n",
        "            super(PositionalEncoding,self).__init__()\n",
        "\n",
        "            pe = torch.zeros(max_seq_length,d_model)\n",
        "            position = torch.arange(0,max_seq_length,dtype = torch.float).unsqueeze(1)\n",
        "            div_term = torch.arange(0,d_model,2).float() * -(math.log(10000.0)/d_model)\n",
        "\n",
        "            pe[:,0::2] = torch.sin(position * div_term)\n",
        "            pe[:, 1::2] = torch.cos(position * div_term)\n",
        "\n",
        "            self.register_buffer('pe',pe.unsqueeze(0))\n",
        "\n",
        "\n",
        "        def forward(self,x):\n",
        "            return x + self.pe[:, :x.size(1)]"
      ],
      "metadata": {
        "id": "xd1IZQKf0WrP"
      },
      "execution_count": null,
      "outputs": []
    },
    {
      "cell_type": "code",
      "source": [
        "class EncoderLayer(nn.Module):\n",
        "          def __init__(self,d_model,num_heads,d_ff,dropout):\n",
        "              super(EncoderLayer,self).__init__()\n",
        "\n",
        "              self.self_attn = MultiHeadAttention(d_model,num_heads)\n",
        "              self.feed_forward = PositionWiseFeedForward(d_model,d_ff)\n",
        "              self.norm1 = nn.LayerNorm(d_model)\n",
        "              self.norm2 = nn.LayerNorm(d_model)\n",
        "              self.dropout = nn.Dropout(dropout)\n",
        "\n",
        "          def forward(self, x, mask):\n",
        "            attn_output = self.self_attn(x,x,x,mask)\n",
        "            x =  self.norm1(x+ self.dropout(attn_output))\n",
        "            ff_output = self.feed_forward(x)\n",
        "            x =  self.norm2(x+ self.dropout(ff_output))\n",
        "            return x"
      ],
      "metadata": {
        "id": "YbWN4T5m0Wt8"
      },
      "execution_count": null,
      "outputs": []
    },
    {
      "cell_type": "code",
      "source": [
        "class DecoderLayer(nn.Module):\n",
        "        def __init__(self,d_model,num_heads,d_ff,dropout):\n",
        "            super(DecoderLayer, self).__init__()\n",
        "\n",
        "            self.self_attn = MultiHeadAttention(d_model,num_heads)\n",
        "            self.cross_attn = MultiHeadAttention(d_model,num_heads)\n",
        "\n",
        "            self.feed_forward = PositionWiseFeedForward(d_model, d_ff)\n",
        "            self.norm1 = nn.LayerNorm(d_model)\n",
        "            self.norm2 = nn.LayerNorm(d_model)\n",
        "            self.norm3 = nn.LayerNorm(d_model)\n",
        "            self.dropout = nn.Dropout(dropout)\n",
        "\n",
        "        def forward(self,x, enc_output, src_mask,tgt_mask):\n",
        "            attn_output = self.self_attn(x,x,x,tgt_mask)\n",
        "            x = self.norm1(x + self.dropout(attn_output))\n",
        "            attn_output = self.cross_attn(x,enc_output,enc_output,src_mask)\n",
        "            x = self.norm2(x + self.dropout(attn_output))\n",
        "            ff_output = self.feed_forward(x)\n",
        "            x = self.norm3(x + self.dropout(ff_output))\n",
        "            return x"
      ],
      "metadata": {
        "id": "BWPg5xPx0-Ks"
      },
      "execution_count": null,
      "outputs": []
    },
    {
      "cell_type": "code",
      "source": [
        "class Transformer(nn.Module):\n",
        "        def __init__(self,src_vocab_size, tgt_vocab_size,d_model, num_heads,num_layers, d_ff,max_seq_length,dropout):\n",
        "            super(Transformer,self).__init__()\n",
        "\n",
        "\n",
        "            self.encoder_embedding = nn.Embedding(src_vocab_size,d_model)\n",
        "            self.decoder_embedding = nn.Embedding(tgt_vocab_size,d_model)\n",
        "            self.positional_encoding = PositionalEncoding(d_model,max_seq_length)\n",
        "\n",
        "            self.encoder_layer = nn.ModuleList([EncoderLayer(d_model,num_heads,d_ff,dropout) for i in range(num_layers)])\n",
        "            self.decoder_layer = nn.ModuleList([DecoderLayer(d_model, num_heads, d_ff, dropout) for i in range(num_layers)])\n",
        "\n",
        "            self.fc = nn.Linear(d_model,tgt_vocab_size)\n",
        "            self.dropout = nn.Dropout(dropout)\n",
        "\n",
        "        def generate_mask(self,src,tgt):\n",
        "            src_mask = (src!=0).unsqueeze(1).unsqueeze(2)\n",
        "\n",
        "            tgt_mask = (tgt != 0).unsqueeze(1).unsqueeze(3)\n",
        "\n",
        "            seq_length = tgt.size(1)\n",
        "\n",
        "            nopeak_mask = (1- torch.triu(torch.ones(1,seq_length, seq_length), 1)).bool()\n",
        "\n",
        "            tgt_mask = tgt_mask & nopeak_mask\n",
        "\n",
        "            return src_mask, tgt_mask\n",
        "\n",
        "\n",
        "        def forward(self,src,tgt):\n",
        "            src_mask, tgt_mask = self.generate_mask(src,tgt)\n",
        "            src_embedded = self.dropout(self.positional_encoding(self.encoder_embedding(src)))\n",
        "            tgt_embedded = self.dropout(self.positional_encoding(self.decoder_embedding(tgt)))\n",
        "\n",
        "            enc_output = src_embedded\n",
        "            for enc_layer in self.encoder_layer:\n",
        "                enc_output = enc_layer(enc_output,src_mask)\n",
        "\n",
        "                dec_output = tgt_embedded\n",
        "            for dec_layer in self.decoder_layer:\n",
        "                dec_output = dec_layer(dec_output,enc_output, src_mask,tgt_mask)\n",
        "\n",
        "                output = self.fc(dec_output)\n",
        "                return output"
      ],
      "metadata": {
        "id": "Nt8hjwI-0-Ni"
      },
      "execution_count": null,
      "outputs": []
    },
    {
      "cell_type": "code",
      "source": [
        "src_vocab_size = 5000\n",
        "tgt_vocab_size = 5000\n",
        "d_model = 512\n",
        "num_heads = 8\n",
        "num_layers = 6\n",
        "d_ff = 2048\n",
        "max_seq_length = 100\n",
        "dropout = 0.1\n",
        "transformer = Transformer(src_vocab_size, tgt_vocab_size,d_model,num_heads,num_layers, d_ff,max_seq_length,dropout)\n",
        "print(transformer)\n",
        "\n",
        "src_data = torch.randint(1,src_vocab_size,(64,max_seq_length))\n",
        "tgt_data = torch.randint(1,tgt_vocab_size,(64,max_seq_length))\n",
        "\n",
        "criterion = nn.CrossEntropyLoss(ignore_index = 0)\n",
        "optimizer = optim.Adam(transformer.parameters(),lr = 0.0001, betas=(0.9,0.98),eps= 1e-9)\n",
        "\n",
        "transformer.train()\n",
        "for epochs in range(10):\n",
        "      optimizer.zero_grad()\n",
        "      output = transformer(src_data,tgt_data[:,:-1])\n",
        "      loss = criterion(output.contiguous().view(-1, tgt_vocab_size),tgt_data[:,1:].contiguous().view(-1))\n",
        "      loss.backward()\n",
        "      optimizer.step()\n",
        "      print(\"Epochs: {epochs+1},Loss:{loss.item()}\")\n",
        "      transformer.eval()\n",
        "\n",
        "\n",
        "val_src_data = torch.randint(1,src_vocab_size,(64,max_seq_length))\n",
        "val_tgt_data = torch.randint(1,tgt_vocab_size,(64,max_seq_length))\n",
        "\n",
        "with torch.no_grad():\n",
        "\n",
        "     val_output = transformer(val_src_data,val_tgt_data[:,:-1])\n",
        "     val_loss = criterion(val_output.contiguous().view(-1,tgt_vocab_size),val_tgt_data[:,1:].contiguous().view(-1))\n",
        "     print(f\"Validation Loss: {val_loss.item()}\")"
      ],
      "metadata": {
        "colab": {
          "base_uri": "https://localhost:8080/"
        },
        "id": "2nnl1je50-TV",
        "outputId": "c1e69ce4-5198-4c07-c656-252336e9635c"
      },
      "execution_count": null,
      "outputs": [
        {
          "output_type": "stream",
          "name": "stdout",
          "text": [
            "Transformer(\n",
            "  (encoder_embedding): Embedding(5000, 512)\n",
            "  (decoder_embedding): Embedding(5000, 512)\n",
            "  (positional_encoding): PositionalEncoding()\n",
            "  (encoder_layer): ModuleList(\n",
            "    (0-5): 6 x EncoderLayer(\n",
            "      (self_attn): MultiHeadAttention(\n",
            "        (W_q): Linear(in_features=512, out_features=512, bias=True)\n",
            "        (W_k): Linear(in_features=512, out_features=512, bias=True)\n",
            "        (W_v): Linear(in_features=512, out_features=512, bias=True)\n",
            "        (W_o): Linear(in_features=512, out_features=512, bias=True)\n",
            "      )\n",
            "      (feed_forward): PositionWiseFeedForward(\n",
            "        (fc1): Linear(in_features=512, out_features=2048, bias=True)\n",
            "        (fc2): Linear(in_features=2048, out_features=512, bias=True)\n",
            "        (relu): ReLU()\n",
            "      )\n",
            "      (norm1): LayerNorm((512,), eps=1e-05, elementwise_affine=True)\n",
            "      (norm2): LayerNorm((512,), eps=1e-05, elementwise_affine=True)\n",
            "      (dropout): Dropout(p=0.1, inplace=False)\n",
            "    )\n",
            "  )\n",
            "  (decoder_layer): ModuleList(\n",
            "    (0-5): 6 x DecoderLayer(\n",
            "      (self_attn): MultiHeadAttention(\n",
            "        (W_q): Linear(in_features=512, out_features=512, bias=True)\n",
            "        (W_k): Linear(in_features=512, out_features=512, bias=True)\n",
            "        (W_v): Linear(in_features=512, out_features=512, bias=True)\n",
            "        (W_o): Linear(in_features=512, out_features=512, bias=True)\n",
            "      )\n",
            "      (cross_attn): MultiHeadAttention(\n",
            "        (W_q): Linear(in_features=512, out_features=512, bias=True)\n",
            "        (W_k): Linear(in_features=512, out_features=512, bias=True)\n",
            "        (W_v): Linear(in_features=512, out_features=512, bias=True)\n",
            "        (W_o): Linear(in_features=512, out_features=512, bias=True)\n",
            "      )\n",
            "      (feed_forward): PositionWiseFeedForward(\n",
            "        (fc1): Linear(in_features=512, out_features=2048, bias=True)\n",
            "        (fc2): Linear(in_features=2048, out_features=512, bias=True)\n",
            "        (relu): ReLU()\n",
            "      )\n",
            "      (norm1): LayerNorm((512,), eps=1e-05, elementwise_affine=True)\n",
            "      (norm2): LayerNorm((512,), eps=1e-05, elementwise_affine=True)\n",
            "      (norm3): LayerNorm((512,), eps=1e-05, elementwise_affine=True)\n",
            "      (dropout): Dropout(p=0.1, inplace=False)\n",
            "    )\n",
            "  )\n",
            "  (fc): Linear(in_features=512, out_features=5000, bias=True)\n",
            "  (dropout): Dropout(p=0.1, inplace=False)\n",
            ")\n",
            "Epochs: {epochs+1},Loss:{loss.item()}\n",
            "Epochs: {epochs+1},Loss:{loss.item()}\n",
            "Epochs: {epochs+1},Loss:{loss.item()}\n",
            "Epochs: {epochs+1},Loss:{loss.item()}\n",
            "Epochs: {epochs+1},Loss:{loss.item()}\n",
            "Epochs: {epochs+1},Loss:{loss.item()}\n",
            "Epochs: {epochs+1},Loss:{loss.item()}\n",
            "Epochs: {epochs+1},Loss:{loss.item()}\n",
            "Epochs: {epochs+1},Loss:{loss.item()}\n",
            "Epochs: {epochs+1},Loss:{loss.item()}\n",
            "Validation Loss: 8.685007095336914\n"
          ]
        }
      ]
    },
    {
      "cell_type": "code",
      "source": [],
      "metadata": {
        "id": "g9Im3Q3j0Wwt"
      },
      "execution_count": null,
      "outputs": []
    },
    {
      "cell_type": "code",
      "source": [],
      "metadata": {
        "id": "KOnrtUn10WzO"
      },
      "execution_count": null,
      "outputs": []
    }
  ]
}